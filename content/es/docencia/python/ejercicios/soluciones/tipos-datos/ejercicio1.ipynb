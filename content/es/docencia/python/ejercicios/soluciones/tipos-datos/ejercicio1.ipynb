{
  "cells": [
    {
      "cell_type": "markdown",
      "source": [
        "# Sección nueva"
      ],
      "metadata": {
        "id": "L3SV2punEiKX"
      }
    },
    {
      "cell_type": "code",
      "source": [
        "print('¡Hola Mundo!')"
      ],
      "metadata": {
        "id": "Lr7HngkhEi89",
        "outputId": "af6c93af-d4ac-4e76-ac19-b9926c6884a0",
        "colab": {
          "base_uri": "https://localhost:8080/"
        }
      },
      "execution_count": 1,
      "outputs": [
        {
          "output_type": "stream",
          "name": "stdout",
          "text": [
            "¡Hola Mundo!\n"
          ]
        }
      ]
    },
    {
      "cell_type": "code",
      "source": [
        "cadena='¡Hola Mundo!'\n",
        "print(cadena)"
      ],
      "metadata": {
        "id": "uhqe9D0bEy7W",
        "outputId": "79987abb-d7f5-40b8-f218-c5e0fe81cd78",
        "colab": {
          "base_uri": "https://localhost:8080/"
        }
      },
      "execution_count": 3,
      "outputs": [
        {
          "output_type": "stream",
          "name": "stdout",
          "text": [
            "¡Hola Mundo!\n"
          ]
        }
      ]
    },
    {
      "cell_type": "code",
      "source": [
        "nombre=input('nombre es: ')\n",
        "print('Hola ',nombre)"
      ],
      "metadata": {
        "id": "fh2A2yhcFIuT",
        "outputId": "6a2babc1-3b43-4005-d2a8-9dbe65c35edc",
        "colab": {
          "base_uri": "https://localhost:8080/"
        }
      },
      "execution_count": 4,
      "outputs": [
        {
          "output_type": "stream",
          "name": "stdout",
          "text": [
            "nombre es: Melany\n",
            "Hola  Melany\n"
          ]
        }
      ]
    },
    {
      "cell_type": "code",
      "source": [
        "oper=((3+2)/(2*5))**2\n",
        "print(oper)"
      ],
      "metadata": {
        "id": "-F_-NCZjFmNe",
        "outputId": "49a0a1e6-947c-4a4e-cd41-a9084974ec27",
        "colab": {
          "base_uri": "https://localhost:8080/"
        }
      },
      "execution_count": 7,
      "outputs": [
        {
          "output_type": "stream",
          "name": "stdout",
          "text": [
            "0.25\n"
          ]
        }
      ]
    },
    {
      "cell_type": "code",
      "source": [
        "horas=float(input(\"Horas trabajadas: \"))\n",
        "dinero=float(input(\"Dinero/hora: \"))\n",
        "print(\"Debe cobrar: $\",horas*dinero)"
      ],
      "metadata": {
        "id": "Nn5alp28jarI",
        "outputId": "b2d57cef-6d03-4013-d425-89690fe99dd7",
        "colab": {
          "base_uri": "https://localhost:8080/"
        }
      },
      "execution_count": 3,
      "outputs": [
        {
          "output_type": "stream",
          "name": "stdout",
          "text": [
            "Horas trabajadas: 3\n",
            "Dinero/hora: 5\n",
            "Debe cobrar: $ 15.0\n"
          ]
        }
      ]
    }
  ],
  "metadata": {
    "kernelspec": {
      "display_name": "Python 3",
      "language": "python",
      "name": "python3"
    },
    "language_info": {
      "codemirror_mode": {
        "name": "ipython",
        "version": 3
      },
      "file_extension": ".py",
      "mimetype": "text/x-python",
      "name": "python",
      "nbconvert_exporter": "python",
      "pygments_lexer": "ipython3",
      "version": "3.7.1"
    },
    "colab": {
      "provenance": [],
      "toc_visible": true
    }
  },
  "nbformat": 4,
  "nbformat_minor": 0
}